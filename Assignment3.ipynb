{
 "cells": [
  {
   "cell_type": "markdown",
   "id": "d518d039",
   "metadata": {},
   "source": [
    "IF Statement\n",
    "Problems:\n",
    "1.\tWrite a program to check whether x is less than y\n",
    "where, x = 20 and y = 30\n",
    "Assigning x equal to 20 Assigning y equal to 30 If condition x is less then y then go to step 4 print x is less then y\n"
   ]
  },
  {
   "cell_type": "code",
   "execution_count": null,
   "id": "fb8aebbe",
   "metadata": {},
   "outputs": [
    {
     "name": "stdout",
     "output_type": "stream",
     "text": [
      "x is less than y\n"
     ]
    }
   ],
   "source": [
    "x = 20\n",
    "y = 30\n",
    "if (x<y):\n",
    "    print(\"x is less than y\")"
   ]
  },
  {
   "cell_type": "markdown",
   "id": "2d78c35b",
   "metadata": {},
   "source": [
    "2.\tWrite a program to check whether the total score (theory --> 100 + practical --> 100) is less than or equal to 200. If it goes beyond 200, print an error or a warning message.\n",
    "Hint:\n",
    "Set, Theory equal to 140 Practical equal to 145 If condition for theory + practical is greater than 200 then, print invalid score\n"
   ]
  },
  {
   "cell_type": "code",
   "execution_count": 2,
   "id": "7885b78f",
   "metadata": {},
   "outputs": [
    {
     "name": "stdout",
     "output_type": "stream",
     "text": [
      "Invalid Score\n"
     ]
    }
   ],
   "source": [
    "Theory = 140\n",
    "Practical = 145\n",
    "\n",
    "if (Theory + Practical) > 200:\n",
    "    print(\"Invalid Score\")\n",
    "else:\n",
    "    print(\"Total score is less than or equal to 200\")"
   ]
  },
  {
   "cell_type": "markdown",
   "id": "545832fa",
   "metadata": {},
   "source": [
    "If-else Statement:\n",
    "\n",
    "3.\tWrite a python program to to check whether the student has passed the subject based on string input yes/no\n",
    "Hint:\n",
    "Get an user input 'yes' / 'no' pass this to variable named 'Subject' Create a If condition, when the Subject value is 'yes' then print 'Cleared the test', Else print 'Failed the test'\n"
   ]
  },
  {
   "cell_type": "code",
   "execution_count": 3,
   "id": "72c46aeb",
   "metadata": {},
   "outputs": [
    {
     "name": "stdout",
     "output_type": "stream",
     "text": [
      "Enter yes/no: yes\n",
      "Cleared the test\n"
     ]
    }
   ],
   "source": [
    "subject = input(\"Enter yes/no: \")\n",
    "\n",
    "if subject == 'yes':\n",
    "    print('Cleared the test')\n",
    "else:\n",
    "    print('Failed the test')"
   ]
  },
  {
   "cell_type": "markdown",
   "id": "93745b1f",
   "metadata": {},
   "source": [
    "4.\tWrite a program to get the password from user, check whether the password is 'great'. Through a reply to the user accordingly.\n",
    "Hint:\n",
    "Get password from user, the input statement should be 'Enter the password: ' pass this to variable named 'Password' If passwrod is 'great', print 'Password Accepted' else print 'Wrong Password'\n"
   ]
  },
  {
   "cell_type": "code",
   "execution_count": 6,
   "id": "7ecf69c7",
   "metadata": {},
   "outputs": [
    {
     "name": "stdout",
     "output_type": "stream",
     "text": [
      "Enter the password: great\n",
      "Password Accepted\n"
     ]
    }
   ],
   "source": [
    "Password = input(\"Enter the password: \")\n",
    "\n",
    "if Password == 'great':\n",
    "    print('Password Accepted')\n",
    "else:\n",
    "    print('Wrong Password')"
   ]
  },
  {
   "cell_type": "markdown",
   "id": "0e4e1de2",
   "metadata": {},
   "source": [
    "Nested if Statement\n",
    "\n",
    "1.\tBased on the users age, divide them in to three groups Group 1 : Age <=18 , Minors who are not eligible to work Group 2 : 18<Age<60 , ELigible to work Group 3 : >=60, Too old to work as per govt. regulations.\n",
    "Write a program for the same\n",
    "Hint:\n",
    "Create variable Name age equal to input if condition for age is < 18 go to step 3 , else go to step 5 print Your Minor not Eligible to Work if condition for age >= 18 and age <= 60 go to step 5 , else go to step 6 print Your Eligible to Work fill in your details and apply print Your too old to work as per the Government rules Please Collect your pension\n"
   ]
  },
  {
   "cell_type": "code",
   "execution_count": 11,
   "id": "716e659d",
   "metadata": {},
   "outputs": [
    {
     "name": "stdout",
     "output_type": "stream",
     "text": [
      "60\n",
      "You are too old to work as per the Government rules\n"
     ]
    }
   ],
   "source": [
    "age = int(input(\"Enter your age: \"))\n",
    "\n",
    "if age <= 18:\n",
    "    print('You are Minor not Eligible to Work')\n",
    "elif 18 < age < 60:\n",
    "    print('You are eligible to work')\n",
    "elif age >= 60:\n",
    "    print('You are too old to work as per the Government rules')"
   ]
  },
  {
   "cell_type": "markdown",
   "id": "0b6466b0",
   "metadata": {},
   "source": [
    "While Loop\n",
    "1.\tTake an integer as input from the user and print all the numbers from 0 to that number in reverse order.\n",
    "Example : if the input is 3, the output should be 3 2 1\n",
    "Hint:\n",
    "Create variable n using input value give the while loop condition i.e. n > 0 then decrement, n = n-1 print n\n"
   ]
  },
  {
   "cell_type": "code",
   "execution_count": 16,
   "id": "e55bf1f6",
   "metadata": {},
   "outputs": [
    {
     "name": "stdout",
     "output_type": "stream",
     "text": [
      "Enter a number: 3\n",
      "3\n",
      "2\n",
      "1\n"
     ]
    }
   ],
   "source": [
    "n = int(input(\"Enter a number: \"))\n",
    "\n",
    "while n>0 :\n",
    "    print(n)\n",
    "    n -= 1"
   ]
  },
  {
   "cell_type": "markdown",
   "id": "59cc8fb2",
   "metadata": {},
   "source": [
    "2.\tWrite a python code to find the squares of all the numbers based on an input.\n",
    "Example : If the input is 10, the output should be 11 ,22 ,33...... 1010\n",
    "Hint:\n",
    "Create the variable i assigning to 1 Give the while loop condition for i <= 10 print i ** 2 increment i loop will execute until i is less than or equal to 10\n"
   ]
  },
  {
   "cell_type": "code",
   "execution_count": 20,
   "id": "e8374997",
   "metadata": {},
   "outputs": [
    {
     "name": "stdout",
     "output_type": "stream",
     "text": [
      "Enter a number: 8\n",
      "1\n",
      "4\n",
      "9\n",
      "16\n",
      "25\n",
      "36\n",
      "49\n",
      "64\n"
     ]
    }
   ],
   "source": [
    "n = int(input(\"Enter a number: \"))\n",
    "\n",
    "i = 1\n",
    "\n",
    "while (i <= n):\n",
    "    print(i**2)\n",
    "    i += 1"
   ]
  },
  {
   "cell_type": "markdown",
   "id": "533e8c84",
   "metadata": {},
   "source": [
    "For Loop\n",
    "1.\tWrite a pseudocode to print the multiplication table of a given number.\n",
    "Example : if the user input is 3, the output should be like below :\n",
    "3 X 1 = 3 3 X 2 = 6 ... 3 X 10 =30\n",
    "Hint:\n",
    "Get user input and store it in variable n. Give the For loop condition in the range between (1,11) In print statement give the condition (n,'x',i,'=' ,n*i) This will print the multiplication tables of a given number.\n"
   ]
  },
  {
   "cell_type": "code",
   "execution_count": 21,
   "id": "bd8455a1",
   "metadata": {},
   "outputs": [
    {
     "name": "stdout",
     "output_type": "stream",
     "text": [
      "Enter a number: 6\n",
      "6 x 1 = 6\n",
      "6 x 2 = 12\n",
      "6 x 3 = 18\n",
      "6 x 4 = 24\n",
      "6 x 5 = 30\n",
      "6 x 6 = 36\n",
      "6 x 7 = 42\n",
      "6 x 8 = 48\n",
      "6 x 9 = 54\n",
      "6 x 10 = 60\n"
     ]
    }
   ],
   "source": [
    "n = int(input(\"Enter a number: \"))\n",
    "\n",
    "for i in range(1,11):\n",
    "    print(n,'x',i,'=',n*i)"
   ]
  },
  {
   "cell_type": "markdown",
   "id": "e9da8a25",
   "metadata": {},
   "source": [
    "2.\tWrite a python code to print squares of all numbers present in the list = [1, 22, 14, 64, 31, 120]\n",
    "Hint:\n",
    "Create a list named 'numbers' [1, 22, 14, 64, 31, 120] Create a variable name 'square' and assign 0 to it For loop condition for i in the list square equal to i * i\n",
    "Print square\n"
   ]
  },
  {
   "cell_type": "code",
   "execution_count": 23,
   "id": "97700bf9",
   "metadata": {},
   "outputs": [
    {
     "name": "stdout",
     "output_type": "stream",
     "text": [
      "1\n",
      "484\n",
      "196\n",
      "4096\n",
      "961\n",
      "14400\n"
     ]
    }
   ],
   "source": [
    "numbers = [1, 22, 14, 64, 31, 120]\n",
    "square = 0\n",
    "\n",
    "for i in numbers:\n",
    "    square = (i * i)\n",
    "    print(square)"
   ]
  },
  {
   "cell_type": "markdown",
   "id": "8e715c67",
   "metadata": {},
   "source": [
    "Additional Practice Programs\n",
    "1.\tWrite a python program that takes a list ['red','black','blue'] and prints each element in the list using whle loop\n"
   ]
  },
  {
   "cell_type": "code",
   "execution_count": 25,
   "id": "322ca3b9",
   "metadata": {},
   "outputs": [
    {
     "name": "stdout",
     "output_type": "stream",
     "text": [
      "red\n",
      "black\n",
      "blue\n"
     ]
    }
   ],
   "source": [
    "l = ['red','black','blue']\n",
    "\n",
    "i = 0\n",
    "\n",
    "while i < len(l):\n",
    "    print(l[i])\n",
    "    i += 1\n",
    "    "
   ]
  },
  {
   "cell_type": "markdown",
   "id": "c5fbaef4",
   "metadata": {},
   "source": [
    "2.\tWrite a same program as above using a For loop?"
   ]
  },
  {
   "cell_type": "code",
   "execution_count": 24,
   "id": "6959632b",
   "metadata": {},
   "outputs": [
    {
     "name": "stdout",
     "output_type": "stream",
     "text": [
      "red\n",
      "black\n",
      "blue\n"
     ]
    }
   ],
   "source": [
    "l = ['red','black','blue']\n",
    "\n",
    "for i in l:\n",
    "    print(i)"
   ]
  },
  {
   "cell_type": "markdown",
   "id": "a0e7d8ed",
   "metadata": {},
   "source": [
    "3.\tWrite a Python Program to find the LCM of two numbers?"
   ]
  },
  {
   "cell_type": "code",
   "execution_count": 3,
   "id": "65a320b9",
   "metadata": {},
   "outputs": [
    {
     "name": "stdout",
     "output_type": "stream",
     "text": [
      "Enter 1st number: 8\n",
      "Enter 2nd number: 6\n",
      "24\n"
     ]
    }
   ],
   "source": [
    "x = int(input(\"Enter 1st number: \"))\n",
    "y = int(input(\"Enter 2nd number: \"))\n",
    "\n",
    "max_num = max(x, y)\n",
    "    \n",
    "lcm = max_num\n",
    "\n",
    "while True:\n",
    "    if lcm % x == 0 and lcm % y == 0:\n",
    "        break\n",
    "    lcm += max_num\n",
    "print(lcm)"
   ]
  },
  {
   "cell_type": "markdown",
   "id": "a4de8d2c",
   "metadata": {},
   "source": [
    "4.\tPython Program to find the sum of series: 1 + 1/2 + 1/3 + ….. + 1/N."
   ]
  },
  {
   "cell_type": "code",
   "execution_count": 6,
   "id": "86aaec3a",
   "metadata": {},
   "outputs": [
    {
     "name": "stdout",
     "output_type": "stream",
     "text": [
      "Enter a number: 2\n",
      "1.5\n"
     ]
    }
   ],
   "source": [
    "n = int(input(\"Enter a number: \"))\n",
    "total_sum = 0.0\n",
    "    \n",
    "for i in range(1, n+1):\n",
    "    total_sum += 1/i\n",
    "\n",
    "print(total_sum)"
   ]
  },
  {
   "cell_type": "markdown",
   "id": "d7355444",
   "metadata": {},
   "source": [
    "List Comprehensions\n",
    "1.\ti. Write a Python program to get the squares of numbers present in the range of (1-10)\n",
    "●\toutput squares = [0, 1, 4, 9, 16, 25, 36, 49, 64, 81, 100]\n"
   ]
  },
  {
   "cell_type": "code",
   "execution_count": 7,
   "id": "dcb14b8a",
   "metadata": {},
   "outputs": [
    {
     "name": "stdout",
     "output_type": "stream",
     "text": [
      "[0, 1, 4, 9, 16, 25, 36, 49, 64, 81, 100]\n"
     ]
    }
   ],
   "source": [
    "n = 10\n",
    "l =[]\n",
    "for i in range(11):\n",
    "    square = i * i\n",
    "    l.append(square)\n",
    "    \n",
    "print(l)"
   ]
  },
  {
   "cell_type": "markdown",
   "id": "9b7866e6",
   "metadata": {},
   "source": [
    "ii. For the same question get the desired output using List Comprehension"
   ]
  },
  {
   "cell_type": "code",
   "execution_count": 8,
   "id": "08040174",
   "metadata": {},
   "outputs": [
    {
     "name": "stdout",
     "output_type": "stream",
     "text": [
      "[0, 1, 4, 9, 16, 25, 36, 49, 64, 81, 100]\n"
     ]
    }
   ],
   "source": [
    "l = [i*i for i in range(11)]\n",
    "print(l)"
   ]
  },
  {
   "cell_type": "markdown",
   "id": "22162c7e",
   "metadata": {},
   "source": [
    "2.\tConvert a list of integers to a list of strings, using List comprehension"
   ]
  },
  {
   "cell_type": "code",
   "execution_count": 9,
   "id": "63205cd3",
   "metadata": {},
   "outputs": [
    {
     "name": "stdout",
     "output_type": "stream",
     "text": [
      "['1', '2', '3', '4']\n"
     ]
    }
   ],
   "source": [
    "l = [1,2,3,4]\n",
    "l1 = [str(i) for i in l]\n",
    "print(l1)"
   ]
  },
  {
   "cell_type": "markdown",
   "id": "f2e63e46",
   "metadata": {},
   "source": [
    "3.\tCreate tuples from two lists using List Comprehensions\n",
    "Hint: list1 =[0,1] list2 =['zero','one']\n",
    "Output: [(0, 'zero'), (0, 'one'), (1, 'zero'), (1, 'one')]\n"
   ]
  },
  {
   "cell_type": "code",
   "execution_count": 13,
   "id": "eca708ea",
   "metadata": {},
   "outputs": [
    {
     "name": "stdout",
     "output_type": "stream",
     "text": [
      "[(0, 'zero'), (0, 'one'), (1, 'zero'), (1, 'one')]\n"
     ]
    }
   ],
   "source": [
    "list1 =[0,1]\n",
    "list2 =['zero','one']\n",
    "output = [(i,j) for i in list1 for j in list2]\n",
    "print(output)"
   ]
  },
  {
   "cell_type": "markdown",
   "id": "202800f4",
   "metadata": {},
   "source": [
    "4.\tGet Index of Each Element of List using enumerate in List Comprehension"
   ]
  },
  {
   "cell_type": "code",
   "execution_count": 17,
   "id": "ce7fc34c",
   "metadata": {},
   "outputs": [
    {
     "name": "stdout",
     "output_type": "stream",
     "text": [
      "[0, 1, 2, 3]\n"
     ]
    }
   ],
   "source": [
    "list1 =[0,1]\n",
    "list2 =['zero','one']\n",
    "output = [(i,j) for i in list1 for j in list2]\n",
    "index = [index for index,element in enumerate(output)]\n",
    "print(index)"
   ]
  }
 ],
 "metadata": {
  "kernelspec": {
   "display_name": "Python 3 (ipykernel)",
   "language": "python",
   "name": "python3"
  },
  "language_info": {
   "codemirror_mode": {
    "name": "ipython",
    "version": 3
   },
   "file_extension": ".py",
   "mimetype": "text/x-python",
   "name": "python",
   "nbconvert_exporter": "python",
   "pygments_lexer": "ipython3",
   "version": "3.10.8"
  }
 },
 "nbformat": 4,
 "nbformat_minor": 5
}
